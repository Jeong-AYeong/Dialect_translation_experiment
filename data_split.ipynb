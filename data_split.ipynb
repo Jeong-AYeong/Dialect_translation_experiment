{
 "cells": [
  {
   "cell_type": "markdown",
   "id": "e79b3ea6-6a0c-4fe5-bb46-e68e8bb307e8",
   "metadata": {},
   "source": [
    "# 데이터 로드"
   ]
  },
  {
   "cell_type": "code",
   "execution_count": 1,
   "id": "2435cc6b-97bd-456a-8988-6ff4c1b84a20",
   "metadata": {},
   "outputs": [
    {
     "data": {
      "text/html": [
       "<div>\n",
       "<style scoped>\n",
       "    .dataframe tbody tr th:only-of-type {\n",
       "        vertical-align: middle;\n",
       "    }\n",
       "\n",
       "    .dataframe tbody tr th {\n",
       "        vertical-align: top;\n",
       "    }\n",
       "\n",
       "    .dataframe thead th {\n",
       "        text-align: right;\n",
       "    }\n",
       "</style>\n",
       "<table border=\"1\" class=\"dataframe\">\n",
       "  <thead>\n",
       "    <tr style=\"text-align: right;\">\n",
       "      <th></th>\n",
       "      <th>standard_form</th>\n",
       "      <th>dialect_form</th>\n",
       "    </tr>\n",
       "  </thead>\n",
       "  <tbody>\n",
       "    <tr>\n",
       "      <th>0</th>\n",
       "      <td>난 진짜 벌초 할때 뱀나오잖아 뱀도</td>\n",
       "      <td>난 진짜 벌초 할때 뱀나오잖아 뱀도</td>\n",
       "    </tr>\n",
       "    <tr>\n",
       "      <th>1</th>\n",
       "      <td>어어 그니까</td>\n",
       "      <td>어어 그니까</td>\n",
       "    </tr>\n",
       "    <tr>\n",
       "      <th>2</th>\n",
       "      <td>아 잘도</td>\n",
       "      <td>아 잘도</td>\n",
       "    </tr>\n",
       "    <tr>\n",
       "      <th>3</th>\n",
       "      <td>예초기 뱀도 짤려</td>\n",
       "      <td>예초기 뱀도 짤려</td>\n",
       "    </tr>\n",
       "    <tr>\n",
       "      <th>4</th>\n",
       "      <td>어 그니까 완전 끔찍해</td>\n",
       "      <td>어 그니까 완전 끔찍해</td>\n",
       "    </tr>\n",
       "  </tbody>\n",
       "</table>\n",
       "</div>"
      ],
      "text/plain": [
       "         standard_form         dialect_form\n",
       "0  난 진짜 벌초 할때 뱀나오잖아 뱀도  난 진짜 벌초 할때 뱀나오잖아 뱀도\n",
       "1               어어 그니까               어어 그니까\n",
       "2                 아 잘도                 아 잘도\n",
       "3            예초기 뱀도 짤려            예초기 뱀도 짤려\n",
       "4         어 그니까 완전 끔찍해         어 그니까 완전 끔찍해"
      ]
     },
     "execution_count": 1,
     "metadata": {},
     "output_type": "execute_result"
    }
   ],
   "source": [
    "import os\n",
    "import json\n",
    "import pandas as pd # Gzip 압축된 CSV 파일 불러오기\n",
    "\n",
    "df = pd.read_csv(\"data.csv.gz\", compression='gzip')\n",
    "df.head()"
   ]
  },
  {
   "cell_type": "code",
   "execution_count": 2,
   "id": "314a353d-73a7-4db5-bd24-cb14ad8d59cd",
   "metadata": {},
   "outputs": [
    {
     "name": "stdout",
     "output_type": "stream",
     "text": [
      "<class 'pandas.core.frame.DataFrame'>\n",
      "RangeIndex: 2774257 entries, 0 to 2774256\n",
      "Data columns (total 2 columns):\n",
      " #   Column         Dtype \n",
      "---  ------         ----- \n",
      " 0   standard_form  object\n",
      " 1   dialect_form   object\n",
      "dtypes: object(2)\n",
      "memory usage: 42.3+ MB\n"
     ]
    }
   ],
   "source": [
    "df.info()"
   ]
  },
  {
   "cell_type": "code",
   "execution_count": 3,
   "id": "8e9070f2-eed1-4017-9b72-52918df0b1ae",
   "metadata": {},
   "outputs": [
    {
     "name": "stdout",
     "output_type": "stream",
     "text": [
      "<class 'pandas.core.frame.DataFrame'>\n",
      "Int64Index: 1116389 entries, 6 to 2774254\n",
      "Data columns (total 2 columns):\n",
      " #   Column         Non-Null Count    Dtype \n",
      "---  ------         --------------    ----- \n",
      " 0   standard_form  1116389 non-null  object\n",
      " 1   dialect_form   1116389 non-null  object\n",
      "dtypes: object(2)\n",
      "memory usage: 25.6+ MB\n"
     ]
    }
   ],
   "source": [
    "# 중복 제거\n",
    "df_filtered = df[df[\"standard_form\"] != df[\"dialect_form\"]]\n",
    "df_filtered = df_filtered.drop_duplicates()\n",
    "df_filtered.info()"
   ]
  },
  {
   "cell_type": "code",
   "execution_count": 4,
   "id": "df8d992c-9549-4158-b318-d10745a8c602",
   "metadata": {},
   "outputs": [
    {
     "data": {
      "text/html": [
       "<div>\n",
       "<style scoped>\n",
       "    .dataframe tbody tr th:only-of-type {\n",
       "        vertical-align: middle;\n",
       "    }\n",
       "\n",
       "    .dataframe tbody tr th {\n",
       "        vertical-align: top;\n",
       "    }\n",
       "\n",
       "    .dataframe thead th {\n",
       "        text-align: right;\n",
       "    }\n",
       "</style>\n",
       "<table border=\"1\" class=\"dataframe\">\n",
       "  <thead>\n",
       "    <tr style=\"text-align: right;\">\n",
       "      <th></th>\n",
       "      <th>standard_form</th>\n",
       "      <th>dialect_form</th>\n",
       "    </tr>\n",
       "  </thead>\n",
       "  <tbody>\n",
       "    <tr>\n",
       "      <th>0</th>\n",
       "      <td>예전에 그렇게</td>\n",
       "      <td>예전에 겅</td>\n",
       "    </tr>\n",
       "    <tr>\n",
       "      <th>1</th>\n",
       "      <td>아 그러니까 예초 할땐 조심해야 돼</td>\n",
       "      <td>아 겅하니까이 예초 할땐 조심해야 돼</td>\n",
       "    </tr>\n",
       "    <tr>\n",
       "      <th>2</th>\n",
       "      <td>그러고 예초 벌초하다그네하다가</td>\n",
       "      <td>겅허고 예초 벌초하다그네하다가</td>\n",
       "    </tr>\n",
       "    <tr>\n",
       "      <th>3</th>\n",
       "      <td>어 그거 튀겨서</td>\n",
       "      <td>어 그거 튀겨그네</td>\n",
       "    </tr>\n",
       "    <tr>\n",
       "      <th>4</th>\n",
       "      <td>돌멩이 해 가지고 실명된사람 있어</td>\n",
       "      <td>돌멩이 해 가지고 실명된사람 이서</td>\n",
       "    </tr>\n",
       "  </tbody>\n",
       "</table>\n",
       "</div>"
      ],
      "text/plain": [
       "         standard_form          dialect_form\n",
       "0              예전에 그렇게                 예전에 겅\n",
       "1  아 그러니까 예초 할땐 조심해야 돼  아 겅하니까이 예초 할땐 조심해야 돼\n",
       "2     그러고 예초 벌초하다그네하다가      겅허고 예초 벌초하다그네하다가\n",
       "3             어 그거 튀겨서             어 그거 튀겨그네\n",
       "4   돌멩이 해 가지고 실명된사람 있어    돌멩이 해 가지고 실명된사람 이서"
      ]
     },
     "execution_count": 4,
     "metadata": {},
     "output_type": "execute_result"
    }
   ],
   "source": [
    "df_filtered.reset_index(drop=True, inplace=True)\n",
    "\n",
    "import re\n",
    "SPECIALS = \"\".join([\".\", \",\", \";\", \":\", \"!\", \"?\", '\"', \"'\", \"&\", \"#\", \"$\", \"%\"])\n",
    "\n",
    "def preprocess(text: str, only_kor: bool = True):\n",
    "    \"\"\"한국어 문장을 옵션에 맞게 전처리\"\"\"\n",
    "    # 한국어 모음과 특수문자, 숫자 및 영어 제거\n",
    "    if only_kor:\n",
    "        text = re.sub(r\"[^가-힣\\s]+\", \"\", text)\n",
    "    else:\n",
    "        text = re.sub(rf\"[^가-힣ㄱ-ㅎ0-9{SPECIALS}a-zA-Z\\s]+\", \"\", text)\n",
    "\n",
    "    # 연속 공백 제거\n",
    "    text = re.sub(r\"\\s+\", \" \", text)\n",
    "\n",
    "    # 좌우 불필요한 공백 제거\n",
    "    return text.strip()\n",
    "\n",
    "\n",
    "df_filtered['dialect_form'] = df_filtered['dialect_form'].apply(preprocess)\n",
    "df_filtered['standard_form'] = df_filtered['standard_form'].apply(preprocess)\n",
    "\n",
    "df_filtered.head()"
   ]
  },
  {
   "cell_type": "markdown",
   "id": "af5fb19e-8c5b-40ca-818a-ca16546114bc",
   "metadata": {},
   "source": [
    "## 데이터 split"
   ]
  },
  {
   "cell_type": "code",
   "execution_count": 5,
   "id": "e3c28768-b313-4229-b01b-95a2ad8a48bf",
   "metadata": {},
   "outputs": [
    {
     "name": "stdout",
     "output_type": "stream",
     "text": [
      "훈련 세트 크기: (893111, 2)\n",
      "테스트 세트 크기: (223278, 2)\n"
     ]
    }
   ],
   "source": [
    "import pandas as pd\n",
    "from sklearn.model_selection import train_test_split\n",
    "\n",
    "# 데이터프레임 섞기\n",
    "df_shuffled = df_filtered.sample(frac=1, random_state=42).reset_index(drop=True)\n",
    "\n",
    "# 80%를 훈련 세트로, 20%를 테스트 세트로\n",
    "train_df, test_df = train_test_split(df_shuffled, test_size=0.2, random_state=42)\n",
    "\n",
    "# 결과 확인\n",
    "print(\"훈련 세트 크기:\", train_df.shape)\n",
    "print(\"테스트 세트 크기:\", test_df.shape)"
   ]
  },
  {
   "cell_type": "code",
   "execution_count": 6,
   "id": "955296e3-ac29-476a-80e4-35922c9a008a",
   "metadata": {},
   "outputs": [
    {
     "data": {
      "text/html": [
       "<div>\n",
       "<style scoped>\n",
       "    .dataframe tbody tr th:only-of-type {\n",
       "        vertical-align: middle;\n",
       "    }\n",
       "\n",
       "    .dataframe tbody tr th {\n",
       "        vertical-align: top;\n",
       "    }\n",
       "\n",
       "    .dataframe thead th {\n",
       "        text-align: right;\n",
       "    }\n",
       "</style>\n",
       "<table border=\"1\" class=\"dataframe\">\n",
       "  <thead>\n",
       "    <tr style=\"text-align: right;\">\n",
       "      <th></th>\n",
       "      <th>standard_form</th>\n",
       "      <th>dialect_form</th>\n",
       "    </tr>\n",
       "  </thead>\n",
       "  <tbody>\n",
       "    <tr>\n",
       "      <th>439450</th>\n",
       "      <td>그러고 디스플레이 부족하댄허난하다고 하니까 사람을 구해준 것 아닙니까</td>\n",
       "      <td>겅허고 디스플레이 부족하댄허난하다고 하니까 사람을 구해준 것 아니꽈</td>\n",
       "    </tr>\n",
       "    <tr>\n",
       "      <th>981560</th>\n",
       "      <td>너 종합병원이야 갑자기 다리꼬지마</td>\n",
       "      <td>너 종합병원 갑자기 다리꼬지마</td>\n",
       "    </tr>\n",
       "    <tr>\n",
       "      <th>1084245</th>\n",
       "      <td>그러니까 요즘에 오는 관광객들</td>\n",
       "      <td>게난 요즘에 오는 관광객들</td>\n",
       "    </tr>\n",
       "    <tr>\n",
       "      <th>97854</th>\n",
       "      <td>그렇게 하니까 한번 해볼까 해서 그냥 호기심으로 했지</td>\n",
       "      <td>경 하니까 한번 해보카 해연에 그냥 호기심으로 했주게</td>\n",
       "    </tr>\n",
       "    <tr>\n",
       "      <th>975837</th>\n",
       "      <td>오들락오들락 잘 나 정말 곱게 난다 잡초 하나 없이</td>\n",
       "      <td>오들락오들락 잘 나메 정말 곱게 난다 검질 호나 어시</td>\n",
       "    </tr>\n",
       "  </tbody>\n",
       "</table>\n",
       "</div>"
      ],
      "text/plain": [
       "                                  standard_form  \\\n",
       "439450   그러고 디스플레이 부족하댄허난하다고 하니까 사람을 구해준 것 아닙니까   \n",
       "981560                       너 종합병원이야 갑자기 다리꼬지마   \n",
       "1084245                        그러니까 요즘에 오는 관광객들   \n",
       "97854             그렇게 하니까 한번 해볼까 해서 그냥 호기심으로 했지   \n",
       "975837             오들락오들락 잘 나 정말 곱게 난다 잡초 하나 없이   \n",
       "\n",
       "                                  dialect_form  \n",
       "439450   겅허고 디스플레이 부족하댄허난하다고 하니까 사람을 구해준 것 아니꽈  \n",
       "981560                        너 종합병원 갑자기 다리꼬지마  \n",
       "1084245                         게난 요즘에 오는 관광객들  \n",
       "97854            경 하니까 한번 해보카 해연에 그냥 호기심으로 했주게  \n",
       "975837           오들락오들락 잘 나메 정말 곱게 난다 검질 호나 어시  "
      ]
     },
     "execution_count": 6,
     "metadata": {},
     "output_type": "execute_result"
    }
   ],
   "source": [
    "train_df.head()"
   ]
  },
  {
   "cell_type": "code",
   "execution_count": 7,
   "id": "23e734d4-da6d-4852-bdf6-2d3f80b3c523",
   "metadata": {},
   "outputs": [
    {
     "data": {
      "text/html": [
       "<div>\n",
       "<style scoped>\n",
       "    .dataframe tbody tr th:only-of-type {\n",
       "        vertical-align: middle;\n",
       "    }\n",
       "\n",
       "    .dataframe tbody tr th {\n",
       "        vertical-align: top;\n",
       "    }\n",
       "\n",
       "    .dataframe thead th {\n",
       "        text-align: right;\n",
       "    }\n",
       "</style>\n",
       "<table border=\"1\" class=\"dataframe\">\n",
       "  <thead>\n",
       "    <tr style=\"text-align: right;\">\n",
       "      <th></th>\n",
       "      <th>standard_form</th>\n",
       "      <th>dialect_form</th>\n",
       "    </tr>\n",
       "  </thead>\n",
       "  <tbody>\n",
       "    <tr>\n",
       "      <th>552182</th>\n",
       "      <td>근데 그거 할려면은 몸 좋아야 되지 않아</td>\n",
       "      <td>겐디 그거 할려면은 몸 좋아야 되지 않</td>\n",
       "    </tr>\n",
       "    <tr>\n",
       "      <th>920955</th>\n",
       "      <td>혼자 늙으면 이거 안될 수도 있을 건가</td>\n",
       "      <td>혼자 늙으면 이거 안될 수도 이실 건가</td>\n",
       "    </tr>\n",
       "    <tr>\n",
       "      <th>621006</th>\n",
       "      <td>그렇게할 거 같아 어떻게 할거야</td>\n",
       "      <td>겅할 거 닮아 어떵할거</td>\n",
       "    </tr>\n",
       "    <tr>\n",
       "      <th>778371</th>\n",
       "      <td>쫌 쫌 이렇게 삶을 평탄하게 사는 것 같대 물 흐르듯 물 흐르듯이 자연스럽게 사는 ...</td>\n",
       "      <td>쫌 쫌 이렇게 삶을 평탄하게 사는 것 같댄 물 흐르듯 물 흐르듯이 자연스럽게 사는 ...</td>\n",
       "    </tr>\n",
       "    <tr>\n",
       "      <th>579293</th>\n",
       "      <td>고민하고있어 어떡할지</td>\n",
       "      <td>고민하맨 어떵하코</td>\n",
       "    </tr>\n",
       "  </tbody>\n",
       "</table>\n",
       "</div>"
      ],
      "text/plain": [
       "                                            standard_form  \\\n",
       "552182                             근데 그거 할려면은 몸 좋아야 되지 않아   \n",
       "920955                              혼자 늙으면 이거 안될 수도 있을 건가   \n",
       "621006                                  그렇게할 거 같아 어떻게 할거야   \n",
       "778371  쫌 쫌 이렇게 삶을 평탄하게 사는 것 같대 물 흐르듯 물 흐르듯이 자연스럽게 사는 ...   \n",
       "579293                                        고민하고있어 어떡할지   \n",
       "\n",
       "                                             dialect_form  \n",
       "552182                              겐디 그거 할려면은 몸 좋아야 되지 않  \n",
       "920955                              혼자 늙으면 이거 안될 수도 이실 건가  \n",
       "621006                                       겅할 거 닮아 어떵할거  \n",
       "778371  쫌 쫌 이렇게 삶을 평탄하게 사는 것 같댄 물 흐르듯 물 흐르듯이 자연스럽게 사는 ...  \n",
       "579293                                          고민하맨 어떵하코  "
      ]
     },
     "execution_count": 7,
     "metadata": {},
     "output_type": "execute_result"
    }
   ],
   "source": [
    "test_df.head()"
   ]
  },
  {
   "cell_type": "markdown",
   "id": "5b399ce2-6a9f-4f0e-80f9-d20f83396f5b",
   "metadata": {},
   "source": [
    "## 데이터 별 유사도 계산"
   ]
  },
  {
   "cell_type": "code",
   "execution_count": 8,
   "id": "748bce84-e81f-4558-abfe-d0eb7f3944c1",
   "metadata": {},
   "outputs": [
    {
     "name": "stdout",
     "output_type": "stream",
     "text": [
      "WARNING:tensorflow:From C:\\Users\\user\\anaconda3\\envs\\koreanNLP\\lib\\site-packages\\keras\\src\\losses.py:2976: The name tf.losses.sparse_softmax_cross_entropy is deprecated. Please use tf.compat.v1.losses.sparse_softmax_cross_entropy instead.\n",
      "\n"
     ]
    }
   ],
   "source": [
    "import pandas as pd\n",
    "import spacy\n",
    "\n",
    "# spaCy 한국어 모델 로드\n",
    "nlp = spacy.load('ko_core_news_sm')\n",
    "\n",
    "def calculate_similarity(row):\n",
    "    # 표준어와 방언 문장을 spaCy 문서 객체로 변환\n",
    "    doc1 = nlp(row['standard_form'])\n",
    "    doc2 = nlp(row['dialect_form'])\n",
    "    \n",
    "    # 두 문장 간의 유사도 계산\n",
    "    similarity = doc1.similarity(doc2)\n",
    "    \n",
    "    return similarity"
   ]
  },
  {
   "cell_type": "code",
   "execution_count": 9,
   "id": "7e78490e-8d36-4954-ae0e-6aa0267d7bca",
   "metadata": {},
   "outputs": [
    {
     "name": "stderr",
     "output_type": "stream",
     "text": [
      "C:\\Users\\user\\AppData\\Local\\Temp\\ipykernel_165304\\4259840709.py:13: UserWarning: [W007] The model you're using has no word vectors loaded, so the result of the Doc.similarity method will be based on the tagger, parser and NER, which may not give useful similarity judgements. This may happen if you're using one of the small models, e.g. `en_core_web_sm`, which don't ship with word vectors and only use context-sensitive tensors. You can always add your own word vectors, or use one of the larger models instead if available.\n",
      "  similarity = doc1.similarity(doc2)\n",
      "C:\\Users\\user\\AppData\\Local\\Temp\\ipykernel_165304\\4259840709.py:13: UserWarning: [W008] Evaluating Doc.similarity based on empty vectors.\n",
      "  similarity = doc1.similarity(doc2)\n"
     ]
    },
    {
     "name": "stdout",
     "output_type": "stream",
     "text": [
      "                                  standard_form  \\\n",
      "439450   그러고 디스플레이 부족하댄허난하다고 하니까 사람을 구해준 것 아닙니까   \n",
      "981560                       너 종합병원이야 갑자기 다리꼬지마   \n",
      "1084245                        그러니까 요즘에 오는 관광객들   \n",
      "97854             그렇게 하니까 한번 해볼까 해서 그냥 호기심으로 했지   \n",
      "975837             오들락오들락 잘 나 정말 곱게 난다 잡초 하나 없이   \n",
      "...                                         ...   \n",
      "110268                군대 가면 옥택연 어 옥택연을 부담스럽지 않아   \n",
      "259178           중저가 브랜드여도 이름 있는 데 거 해가지고 하면은 이   \n",
      "131932              거기까진 아닌가봐 아직까지는 교육도 시키고 해야지   \n",
      "671155                       그거 얘기는 웬만하면 말하지 마라   \n",
      "121958                                 정체가 뭔데 너   \n",
      "\n",
      "                                  dialect_form  similarity  \n",
      "439450   겅허고 디스플레이 부족하댄허난하다고 하니까 사람을 구해준 것 아니꽈    0.855086  \n",
      "981560                        너 종합병원 갑자기 다리꼬지마    0.835181  \n",
      "1084245                         게난 요즘에 오는 관광객들    0.734492  \n",
      "97854            경 하니까 한번 해보카 해연에 그냥 호기심으로 했주게    0.725456  \n",
      "975837           오들락오들락 잘 나메 정말 곱게 난다 검질 호나 어시    0.880031  \n",
      "...                                        ...         ...  \n",
      "110268                군대 가면 옥택연 어 옥택연을 부담스럽지 안    0.842943  \n",
      "259178          중저가 브랜드여도 이름 있는 데 거 해가지고 하면은 이    1.000000  \n",
      "131932            거기까진 아닌가봐 아직까지는 교육도 시키고 해야주게    0.927207  \n",
      "671155                       그거 얘기는 웬만하면 갈지 마라    0.871263  \n",
      "121958                                정체가 뭔디 니    0.765283  \n",
      "\n",
      "[893111 rows x 3 columns]\n"
     ]
    }
   ],
   "source": [
    "# 유사도 계산 및 새로운 열 추가\n",
    "train_df['similarity'] = train_df.apply(calculate_similarity, axis=1)\n",
    "\n",
    "# 유사도를 기준으로 내림차순 정렬\n",
    "# df_sorted = train_df.sort_values(by='similarity', ascending=False)\n",
    "\n",
    "# 결과 출력\n",
    "print(train_df[['standard_form','dialect_form', 'similarity']])\n",
    "\n",
    "# 결과를 CSV 파일로 저장\n",
    "train_df.to_csv('jeju_train_similarity.csv', encoding='utf-8-sig', index=False)"
   ]
  },
  {
   "cell_type": "code",
   "execution_count": 10,
   "id": "62f873ea-259b-406f-b182-bb5631291913",
   "metadata": {},
   "outputs": [
    {
     "name": "stderr",
     "output_type": "stream",
     "text": [
      "C:\\Users\\user\\AppData\\Local\\Temp\\ipykernel_165304\\4259840709.py:13: UserWarning: [W007] The model you're using has no word vectors loaded, so the result of the Doc.similarity method will be based on the tagger, parser and NER, which may not give useful similarity judgements. This may happen if you're using one of the small models, e.g. `en_core_web_sm`, which don't ship with word vectors and only use context-sensitive tensors. You can always add your own word vectors, or use one of the larger models instead if available.\n",
      "  similarity = doc1.similarity(doc2)\n"
     ]
    },
    {
     "name": "stdout",
     "output_type": "stream",
     "text": [
      "                                            standard_form  \\\n",
      "552182                             근데 그거 할려면은 몸 좋아야 되지 않아   \n",
      "920955                              혼자 늙으면 이거 안될 수도 있을 건가   \n",
      "621006                                  그렇게할 거 같아 어떻게 할거야   \n",
      "778371  쫌 쫌 이렇게 삶을 평탄하게 사는 것 같대 물 흐르듯 물 흐르듯이 자연스럽게 사는 ...   \n",
      "579293                                        고민하고있어 어떡할지   \n",
      "...                                                   ...   \n",
      "527610        내가 말했지 딱 나 퇴근하기 십분 전까지 아무것도 못 판 거야 그래서 언니한테   \n",
      "488777                                   진짜 너 고생하네 고생했어 너   \n",
      "215914                                               까먹었어   \n",
      "873200                                       혹시 너 연개소문 봤어   \n",
      "440515                                  일요일 월요일날 아침에 터졌었어   \n",
      "\n",
      "                                             dialect_form  similarity  \n",
      "552182                              겐디 그거 할려면은 몸 좋아야 되지 않    0.928874  \n",
      "920955                              혼자 늙으면 이거 안될 수도 이실 건가    0.910187  \n",
      "621006                                       겅할 거 닮아 어떵할거    0.608592  \n",
      "778371  쫌 쫌 이렇게 삶을 평탄하게 사는 것 같댄 물 흐르듯 물 흐르듯이 자연스럽게 사는 ...    0.978454  \n",
      "579293                                          고민하맨 어떵하코    0.205639  \n",
      "...                                                   ...         ...  \n",
      "527610           내가 말했지 딱 나 퇴근하기 십분 전까지 아무것도 못판거 그래서 언니한테    0.942095  \n",
      "488777                                   진짜 너 고생햄신게 고생핸 너    0.727137  \n",
      "215914                                                까먹언    0.075030  \n",
      "873200                                        혹시 너 연개소문 봔    0.845477  \n",
      "440515                                   일요일 월요일날 아침에 터져난    0.821913  \n",
      "\n",
      "[223278 rows x 3 columns]\n"
     ]
    }
   ],
   "source": [
    "# 유사도 계산 및 새로운 열 추가\n",
    "test_df['similarity'] = test_df.apply(calculate_similarity, axis=1)\n",
    "\n",
    "# 유사도를 기준으로 내림차순 정렬\n",
    "# df_sorted = train_df.sort_values(by='similarity', ascending=False)\n",
    "\n",
    "# 결과 출력\n",
    "print(test_df[['standard_form','dialect_form', 'similarity']])\n",
    "\n",
    "# 결과를 CSV 파일로 저장\n",
    "test_df.to_csv('jeju_test_similarity.csv', encoding='utf-8-sig', index=False)"
   ]
  },
  {
   "cell_type": "code",
   "execution_count": 11,
   "id": "f7b02c61-bb4a-44ec-ac35-02342252188f",
   "metadata": {},
   "outputs": [
    {
     "name": "stdout",
     "output_type": "stream",
     "text": [
      "train_data의 'similarity' 열의 평균값: 0.8059610633317846\n",
      "test_data의 'similarity' 열의 평균값: 0.8064080678530636\n"
     ]
    }
   ],
   "source": [
    "train_average_similarity = train_df['similarity'].mean()\n",
    "test_average_similarity = test_df['similarity'].mean()\n",
    "\n",
    "print(f\"train_data의 'similarity' 열의 평균값: {train_average_similarity}\")\n",
    "print(f\"test_data의 'similarity' 열의 평균값: {test_average_similarity}\")"
   ]
  },
  {
   "cell_type": "code",
   "execution_count": null,
   "id": "341e6715-9c33-4a25-bf98-848896c3735d",
   "metadata": {},
   "outputs": [],
   "source": []
  }
 ],
 "metadata": {
  "kernelspec": {
   "display_name": "Python 3 (ipykernel)",
   "language": "python",
   "name": "python3"
  },
  "language_info": {
   "codemirror_mode": {
    "name": "ipython",
    "version": 3
   },
   "file_extension": ".py",
   "mimetype": "text/x-python",
   "name": "python",
   "nbconvert_exporter": "python",
   "pygments_lexer": "ipython3",
   "version": "3.9.19"
  }
 },
 "nbformat": 4,
 "nbformat_minor": 5
}
